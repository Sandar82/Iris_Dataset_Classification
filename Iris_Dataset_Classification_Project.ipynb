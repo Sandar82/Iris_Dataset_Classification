{
 "cells": [
  {
   "cell_type": "markdown",
   "id": "5fb9ade3",
   "metadata": {},
   "source": [
    "# Importing Required Library"
   ]
  },
  {
   "cell_type": "code",
   "execution_count": 270,
   "id": "e493f514",
   "metadata": {},
   "outputs": [],
   "source": [
    "import matplotlib\n",
    "import matplotlib.pyplot as plt\n",
    "import numpy as np\n",
    "import pandas as pd\n",
    "import seaborn as sns\n",
    "import sklearn\n",
    "from sklearn.svm import SVC\n",
    "from sklearn.linear_model import LogisticRegression\n",
    "from time import time\n",
    "from sklearn.metrics import accuracy_score, precision_score, recall_score\n",
    "\n",
    "import joblib\n",
    "from sklearn.ensemble import RandomForestClassifier\n",
    "from sklearn.model_selection import GridSearchCV, KFold, cross_val_score"
   ]
  },
  {
   "cell_type": "code",
   "execution_count": 212,
   "id": "d22d11f7",
   "metadata": {},
   "outputs": [],
   "source": [
    "import warnings\n",
    "warnings.filterwarnings('ignore')"
   ]
  },
  {
   "cell_type": "markdown",
   "id": "13cccaa7",
   "metadata": {},
   "source": [
    "# Library Version"
   ]
  },
  {
   "cell_type": "code",
   "execution_count": 213,
   "id": "a73797dd",
   "metadata": {},
   "outputs": [
    {
     "name": "stdout",
     "output_type": "stream",
     "text": [
      "Numpy version=1.24.3\n",
      "Pandas version=1.3.4\n",
      "Seaborn version=0.11.2\n",
      "matplotlib.plt version=3.4.3\n"
     ]
    }
   ],
   "source": [
    "print(\"Numpy version={}\".format(np.__version__))\n",
    "print(\"Pandas version={}\".format(pd.__version__))\n",
    "print(\"Seaborn version={}\".format(sns.__version__))\n",
    "print(\"matplotlib.plt version={}\".format(plt1.__version__))\n",
    "#to add matplotlib version"
   ]
  },
  {
   "cell_type": "markdown",
   "id": "a1087442",
   "metadata": {},
   "source": [
    "# Loading Data"
   ]
  },
  {
   "cell_type": "code",
   "execution_count": 266,
   "id": "29866637",
   "metadata": {},
   "outputs": [],
   "source": [
    "df = pd.read_csv(\"data/iris.csv\")"
   ]
  },
  {
   "cell_type": "code",
   "execution_count": 267,
   "id": "8e2043ba",
   "metadata": {
    "scrolled": true
   },
   "outputs": [
    {
     "data": {
      "text/html": [
       "<div>\n",
       "<style scoped>\n",
       "    .dataframe tbody tr th:only-of-type {\n",
       "        vertical-align: middle;\n",
       "    }\n",
       "\n",
       "    .dataframe tbody tr th {\n",
       "        vertical-align: top;\n",
       "    }\n",
       "\n",
       "    .dataframe thead th {\n",
       "        text-align: right;\n",
       "    }\n",
       "</style>\n",
       "<table border=\"1\" class=\"dataframe\">\n",
       "  <thead>\n",
       "    <tr style=\"text-align: right;\">\n",
       "      <th></th>\n",
       "      <th>sepal.length</th>\n",
       "      <th>sepal.width</th>\n",
       "      <th>petal.length</th>\n",
       "      <th>petal.width</th>\n",
       "      <th>variety</th>\n",
       "    </tr>\n",
       "  </thead>\n",
       "  <tbody>\n",
       "    <tr>\n",
       "      <th>0</th>\n",
       "      <td>5.1</td>\n",
       "      <td>3.5</td>\n",
       "      <td>1.4</td>\n",
       "      <td>0.2</td>\n",
       "      <td>Setosa</td>\n",
       "    </tr>\n",
       "    <tr>\n",
       "      <th>1</th>\n",
       "      <td>4.9</td>\n",
       "      <td>3.0</td>\n",
       "      <td>1.4</td>\n",
       "      <td>0.2</td>\n",
       "      <td>Setosa</td>\n",
       "    </tr>\n",
       "    <tr>\n",
       "      <th>2</th>\n",
       "      <td>4.7</td>\n",
       "      <td>3.2</td>\n",
       "      <td>1.3</td>\n",
       "      <td>0.2</td>\n",
       "      <td>Setosa</td>\n",
       "    </tr>\n",
       "    <tr>\n",
       "      <th>3</th>\n",
       "      <td>4.6</td>\n",
       "      <td>3.1</td>\n",
       "      <td>1.5</td>\n",
       "      <td>0.2</td>\n",
       "      <td>Setosa</td>\n",
       "    </tr>\n",
       "    <tr>\n",
       "      <th>4</th>\n",
       "      <td>5.0</td>\n",
       "      <td>3.6</td>\n",
       "      <td>1.4</td>\n",
       "      <td>0.2</td>\n",
       "      <td>Setosa</td>\n",
       "    </tr>\n",
       "  </tbody>\n",
       "</table>\n",
       "</div>"
      ],
      "text/plain": [
       "   sepal.length  sepal.width  petal.length  petal.width variety\n",
       "0           5.1          3.5           1.4          0.2  Setosa\n",
       "1           4.9          3.0           1.4          0.2  Setosa\n",
       "2           4.7          3.2           1.3          0.2  Setosa\n",
       "3           4.6          3.1           1.5          0.2  Setosa\n",
       "4           5.0          3.6           1.4          0.2  Setosa"
      ]
     },
     "execution_count": 267,
     "metadata": {},
     "output_type": "execute_result"
    }
   ],
   "source": [
    "df.head(5)"
   ]
  },
  {
   "cell_type": "code",
   "execution_count": 216,
   "id": "2d0dec9d",
   "metadata": {},
   "outputs": [],
   "source": [
    "#About the Data"
   ]
  },
  {
   "cell_type": "code",
   "execution_count": 217,
   "id": "6c700fef",
   "metadata": {},
   "outputs": [
    {
     "data": {
      "text/plain": [
       "['sepal.length', 'sepal.width', 'petal.length', 'petal.width', 'variety']"
      ]
     },
     "execution_count": 217,
     "metadata": {},
     "output_type": "execute_result"
    }
   ],
   "source": [
    "# These are a list of columns that include in the dataset\n",
    "list(df.columns.values)"
   ]
  },
  {
   "cell_type": "code",
   "execution_count": 218,
   "id": "6054c253",
   "metadata": {},
   "outputs": [],
   "source": [
    "#Explore continuous features\n",
    "#Data Types and Summary Statistics"
   ]
  },
  {
   "cell_type": "code",
   "execution_count": 219,
   "id": "59c6549a",
   "metadata": {},
   "outputs": [
    {
     "name": "stdout",
     "output_type": "stream",
     "text": [
      "--------------------------------------------------\n",
      "<class 'pandas.core.frame.DataFrame'>\n",
      "RangeIndex: 150 entries, 0 to 149\n",
      "Data columns (total 5 columns):\n",
      " #   Column        Non-Null Count  Dtype  \n",
      "---  ------        --------------  -----  \n",
      " 0   sepal.length  150 non-null    float64\n",
      " 1   sepal.width   150 non-null    float64\n",
      " 2   petal.length  150 non-null    float64\n",
      " 3   petal.width   150 non-null    float64\n",
      " 4   variety       150 non-null    object \n",
      "dtypes: float64(4), object(1)\n",
      "memory usage: 6.0+ KB\n",
      "--------------------------------------------------\n"
     ]
    }
   ],
   "source": [
    "print('-'*50)\n",
    "df.info()\n",
    "print('-'*50)"
   ]
  },
  {
   "cell_type": "code",
   "execution_count": 220,
   "id": "dc76ec33",
   "metadata": {},
   "outputs": [
    {
     "data": {
      "text/plain": [
       "sepal.length    0\n",
       "sepal.width     0\n",
       "petal.length    0\n",
       "petal.width     0\n",
       "variety         0\n",
       "dtype: int64"
      ]
     },
     "execution_count": 220,
     "metadata": {},
     "output_type": "execute_result"
    }
   ],
   "source": [
    "# Checking missing data in the dataset\n",
    "df.isnull().sum()"
   ]
  },
  {
   "cell_type": "code",
   "execution_count": 221,
   "id": "1e2ae1a8",
   "metadata": {},
   "outputs": [
    {
     "data": {
      "text/html": [
       "<div>\n",
       "<style scoped>\n",
       "    .dataframe tbody tr th:only-of-type {\n",
       "        vertical-align: middle;\n",
       "    }\n",
       "\n",
       "    .dataframe tbody tr th {\n",
       "        vertical-align: top;\n",
       "    }\n",
       "\n",
       "    .dataframe thead th {\n",
       "        text-align: right;\n",
       "    }\n",
       "</style>\n",
       "<table border=\"1\" class=\"dataframe\">\n",
       "  <thead>\n",
       "    <tr style=\"text-align: right;\">\n",
       "      <th></th>\n",
       "      <th>sepal.length</th>\n",
       "      <th>sepal.width</th>\n",
       "      <th>petal.length</th>\n",
       "      <th>petal.width</th>\n",
       "    </tr>\n",
       "  </thead>\n",
       "  <tbody>\n",
       "    <tr>\n",
       "      <th>count</th>\n",
       "      <td>150.000000</td>\n",
       "      <td>150.000000</td>\n",
       "      <td>150.000000</td>\n",
       "      <td>150.000000</td>\n",
       "    </tr>\n",
       "    <tr>\n",
       "      <th>mean</th>\n",
       "      <td>5.843333</td>\n",
       "      <td>3.057333</td>\n",
       "      <td>3.758000</td>\n",
       "      <td>1.199333</td>\n",
       "    </tr>\n",
       "    <tr>\n",
       "      <th>std</th>\n",
       "      <td>0.828066</td>\n",
       "      <td>0.435866</td>\n",
       "      <td>1.765298</td>\n",
       "      <td>0.762238</td>\n",
       "    </tr>\n",
       "    <tr>\n",
       "      <th>min</th>\n",
       "      <td>4.300000</td>\n",
       "      <td>2.000000</td>\n",
       "      <td>1.000000</td>\n",
       "      <td>0.100000</td>\n",
       "    </tr>\n",
       "    <tr>\n",
       "      <th>25%</th>\n",
       "      <td>5.100000</td>\n",
       "      <td>2.800000</td>\n",
       "      <td>1.600000</td>\n",
       "      <td>0.300000</td>\n",
       "    </tr>\n",
       "    <tr>\n",
       "      <th>50%</th>\n",
       "      <td>5.800000</td>\n",
       "      <td>3.000000</td>\n",
       "      <td>4.350000</td>\n",
       "      <td>1.300000</td>\n",
       "    </tr>\n",
       "    <tr>\n",
       "      <th>75%</th>\n",
       "      <td>6.400000</td>\n",
       "      <td>3.300000</td>\n",
       "      <td>5.100000</td>\n",
       "      <td>1.800000</td>\n",
       "    </tr>\n",
       "    <tr>\n",
       "      <th>max</th>\n",
       "      <td>7.900000</td>\n",
       "      <td>4.400000</td>\n",
       "      <td>6.900000</td>\n",
       "      <td>2.500000</td>\n",
       "    </tr>\n",
       "  </tbody>\n",
       "</table>\n",
       "</div>"
      ],
      "text/plain": [
       "       sepal.length  sepal.width  petal.length  petal.width\n",
       "count    150.000000   150.000000    150.000000   150.000000\n",
       "mean       5.843333     3.057333      3.758000     1.199333\n",
       "std        0.828066     0.435866      1.765298     0.762238\n",
       "min        4.300000     2.000000      1.000000     0.100000\n",
       "25%        5.100000     2.800000      1.600000     0.300000\n",
       "50%        5.800000     3.000000      4.350000     1.300000\n",
       "75%        6.400000     3.300000      5.100000     1.800000\n",
       "max        7.900000     4.400000      6.900000     2.500000"
      ]
     },
     "execution_count": 221,
     "metadata": {},
     "output_type": "execute_result"
    }
   ],
   "source": [
    "# Summary statistics for the dataset\n",
    "df.describe()"
   ]
  },
  {
   "cell_type": "markdown",
   "id": "fa0671f5",
   "metadata": {},
   "source": [
    "# Q1.Exploratory Data Analysis"
   ]
  },
  {
   "cell_type": "markdown",
   "id": "b1cde7f3",
   "metadata": {},
   "source": [
    "#    Feature using Histogram"
   ]
  },
  {
   "cell_type": "code",
   "execution_count": 237,
   "id": "e7751024",
   "metadata": {
    "scrolled": true
   },
   "outputs": [
    {
     "data": {
      "image/png": "[encoded data removed]",
      "text/plain": [
       "<Figure size 432x288 with 1 Axes>"
      ]
     },
     "metadata": {
      "needs_background": "light"
     },
     "output_type": "display_data"
    }
   ],
   "source": [
    "plt.figure(figsize=(6, 4))\n",
    "sns.histplot(data=df, x='sepal.length', kde=True)\n",
    "plt.xlabel('sepal.length')\n",
    "plt.ylabel('Count')\n",
    "plt.title(f'Histogram of Sepal Lenght')\n",
    "plt.show()"
   ]
  },
  {
   "cell_type": "code",
   "execution_count": 238,
   "id": "b4a70a3c",
   "metadata": {},
   "outputs": [
    {
     "data": {
      "image/png": "[encoded data removed]",
      "text/plain": [
       "<Figure size 432x288 with 1 Axes>"
      ]
     },
     "metadata": {
      "needs_background": "light"
     },
     "output_type": "display_data"
    }
   ],
   "source": [
    "plt.figure(figsize=(6, 4))\n",
    "sns.histplot(data=df, x='sepal.width', kde=True)\n",
    "plt.xlabel('sepal.width')\n",
    "plt.ylabel('Count')\n",
    "plt.title(f'Histogram of Sepal Width')\n",
    "plt.show()"
   ]
  },
  {
   "cell_type": "code",
   "execution_count": 243,
   "id": "293f7d5a",
   "metadata": {},
   "outputs": [
    {
     "data": {
      "image/png": "[encoded data removed]",
      "text/plain": [
       "<Figure size 432x288 with 1 Axes>"
      ]
     },
     "metadata": {
      "needs_background": "light"
     },
     "output_type": "display_data"
    }
   ],
   "source": [
    "plt.figure(figsize=(6, 4))\n",
    "sns.histplot(data=df, x='petal.length', kde=True, bins=5)\n",
    "plt.xlabel('petal.length')\n",
    "plt.ylabel('Count')\n",
    "plt.title(f'Histogram of Petal Length')\n",
    "plt.show()"
   ]
  },
  {
   "cell_type": "code",
   "execution_count": 245,
   "id": "ab750dd0",
   "metadata": {},
   "outputs": [
    {
     "data": {
      "image/png": "[encoded data removed]",
      "text/plain": [
       "<Figure size 432x288 with 1 Axes>"
      ]
     },
     "metadata": {
      "needs_background": "light"
     },
     "output_type": "display_data"
    }
   ],
   "source": [
    "plt.figure(figsize=(6, 4))\n",
    "sns.histplot(data=df, x='petal.width', kde=True, bins=5)\n",
    "plt.xlabel('petal.width')\n",
    "plt.ylabel('Count')\n",
    "plt.title(f'Histogram of Petal Width')\n",
    "plt.show()"
   ]
  },
  {
   "cell_type": "markdown",
   "id": "cdc2dcfd",
   "metadata": {},
   "source": [
    "# Q2. Encoding Target Variable"
   ]
  },
  {
   "cell_type": "code",
   "execution_count": 226,
   "id": "b2a6f4a2",
   "metadata": {},
   "outputs": [],
   "source": [
    "from sklearn.preprocessing import LabelEncoder\n",
    "encoder = LabelEncoder()\n",
    "df.iloc[:,-1] = encoder.fit_transform(df.iloc[:,-1].values)"
   ]
  },
  {
   "cell_type": "code",
   "execution_count": 227,
   "id": "095242ab",
   "metadata": {},
   "outputs": [
    {
     "data": {
      "text/html": [
       "<div>\n",
       "<style scoped>\n",
       "    .dataframe tbody tr th:only-of-type {\n",
       "        vertical-align: middle;\n",
       "    }\n",
       "\n",
       "    .dataframe tbody tr th {\n",
       "        vertical-align: top;\n",
       "    }\n",
       "\n",
       "    .dataframe thead th {\n",
       "        text-align: right;\n",
       "    }\n",
       "</style>\n",
       "<table border=\"1\" class=\"dataframe\">\n",
       "  <thead>\n",
       "    <tr style=\"text-align: right;\">\n",
       "      <th></th>\n",
       "      <th>sepal.length</th>\n",
       "      <th>sepal.width</th>\n",
       "      <th>petal.length</th>\n",
       "      <th>petal.width</th>\n",
       "      <th>variety</th>\n",
       "    </tr>\n",
       "  </thead>\n",
       "  <tbody>\n",
       "    <tr>\n",
       "      <th>0</th>\n",
       "      <td>5.1</td>\n",
       "      <td>3.5</td>\n",
       "      <td>1.4</td>\n",
       "      <td>0.2</td>\n",
       "      <td>0</td>\n",
       "    </tr>\n",
       "    <tr>\n",
       "      <th>1</th>\n",
       "      <td>4.9</td>\n",
       "      <td>3.0</td>\n",
       "      <td>1.4</td>\n",
       "      <td>0.2</td>\n",
       "      <td>0</td>\n",
       "    </tr>\n",
       "    <tr>\n",
       "      <th>2</th>\n",
       "      <td>4.7</td>\n",
       "      <td>3.2</td>\n",
       "      <td>1.3</td>\n",
       "      <td>0.2</td>\n",
       "      <td>0</td>\n",
       "    </tr>\n",
       "    <tr>\n",
       "      <th>3</th>\n",
       "      <td>4.6</td>\n",
       "      <td>3.1</td>\n",
       "      <td>1.5</td>\n",
       "      <td>0.2</td>\n",
       "      <td>0</td>\n",
       "    </tr>\n",
       "    <tr>\n",
       "      <th>4</th>\n",
       "      <td>5.0</td>\n",
       "      <td>3.6</td>\n",
       "      <td>1.4</td>\n",
       "      <td>0.2</td>\n",
       "      <td>0</td>\n",
       "    </tr>\n",
       "    <tr>\n",
       "      <th>...</th>\n",
       "      <td>...</td>\n",
       "      <td>...</td>\n",
       "      <td>...</td>\n",
       "      <td>...</td>\n",
       "      <td>...</td>\n",
       "    </tr>\n",
       "    <tr>\n",
       "      <th>145</th>\n",
       "      <td>6.7</td>\n",
       "      <td>3.0</td>\n",
       "      <td>5.2</td>\n",
       "      <td>2.3</td>\n",
       "      <td>2</td>\n",
       "    </tr>\n",
       "    <tr>\n",
       "      <th>146</th>\n",
       "      <td>6.3</td>\n",
       "      <td>2.5</td>\n",
       "      <td>5.0</td>\n",
       "      <td>1.9</td>\n",
       "      <td>2</td>\n",
       "    </tr>\n",
       "    <tr>\n",
       "      <th>147</th>\n",
       "      <td>6.5</td>\n",
       "      <td>3.0</td>\n",
       "      <td>5.2</td>\n",
       "      <td>2.0</td>\n",
       "      <td>2</td>\n",
       "    </tr>\n",
       "    <tr>\n",
       "      <th>148</th>\n",
       "      <td>6.2</td>\n",
       "      <td>3.4</td>\n",
       "      <td>5.4</td>\n",
       "      <td>2.3</td>\n",
       "      <td>2</td>\n",
       "    </tr>\n",
       "    <tr>\n",
       "      <th>149</th>\n",
       "      <td>5.9</td>\n",
       "      <td>3.0</td>\n",
       "      <td>5.1</td>\n",
       "      <td>1.8</td>\n",
       "      <td>2</td>\n",
       "    </tr>\n",
       "  </tbody>\n",
       "</table>\n",
       "<p>150 rows × 5 columns</p>\n",
       "</div>"
      ],
      "text/plain": [
       "     sepal.length  sepal.width  petal.length  petal.width  variety\n",
       "0             5.1          3.5           1.4          0.2        0\n",
       "1             4.9          3.0           1.4          0.2        0\n",
       "2             4.7          3.2           1.3          0.2        0\n",
       "3             4.6          3.1           1.5          0.2        0\n",
       "4             5.0          3.6           1.4          0.2        0\n",
       "..            ...          ...           ...          ...      ...\n",
       "145           6.7          3.0           5.2          2.3        2\n",
       "146           6.3          2.5           5.0          1.9        2\n",
       "147           6.5          3.0           5.2          2.0        2\n",
       "148           6.2          3.4           5.4          2.3        2\n",
       "149           5.9          3.0           5.1          1.8        2\n",
       "\n",
       "[150 rows x 5 columns]"
      ]
     },
     "execution_count": 227,
     "metadata": {},
     "output_type": "execute_result"
    }
   ],
   "source": [
    "#Check how teh Species column has changed\n",
    "df"
   ]
  },
  {
   "cell_type": "code",
   "execution_count": 228,
   "id": "68dea138",
   "metadata": {},
   "outputs": [],
   "source": [
    "#Scalling Data"
   ]
  },
  {
   "cell_type": "code",
   "execution_count": 249,
   "id": "48bb28df",
   "metadata": {},
   "outputs": [],
   "source": [
    "from sklearn.preprocessing import MinMaxScaler\n",
    "scaler = MinMaxScaler()\n",
    "\n",
    "#Selecting the columns to scale.\n",
    "feature_columns =['sepal.length', 'sepal.width', 'petal.length', 'petal.width']\n",
    "#Apply the scaler\n",
    "df[feature_columns] = scaler.fit_transform(df[feature_columns])"
   ]
  },
  {
   "cell_type": "code",
   "execution_count": 230,
   "id": "851d3ebb",
   "metadata": {},
   "outputs": [
    {
     "data": {
      "text/html": [
       "<div>\n",
       "<style scoped>\n",
       "    .dataframe tbody tr th:only-of-type {\n",
       "        vertical-align: middle;\n",
       "    }\n",
       "\n",
       "    .dataframe tbody tr th {\n",
       "        vertical-align: top;\n",
       "    }\n",
       "\n",
       "    .dataframe thead th {\n",
       "        text-align: right;\n",
       "    }\n",
       "</style>\n",
       "<table border=\"1\" class=\"dataframe\">\n",
       "  <thead>\n",
       "    <tr style=\"text-align: right;\">\n",
       "      <th></th>\n",
       "      <th>sepal.length</th>\n",
       "      <th>sepal.width</th>\n",
       "      <th>petal.length</th>\n",
       "      <th>petal.width</th>\n",
       "      <th>variety</th>\n",
       "    </tr>\n",
       "  </thead>\n",
       "  <tbody>\n",
       "    <tr>\n",
       "      <th>0</th>\n",
       "      <td>0.222222</td>\n",
       "      <td>0.625000</td>\n",
       "      <td>0.067797</td>\n",
       "      <td>0.041667</td>\n",
       "      <td>0</td>\n",
       "    </tr>\n",
       "    <tr>\n",
       "      <th>1</th>\n",
       "      <td>0.166667</td>\n",
       "      <td>0.416667</td>\n",
       "      <td>0.067797</td>\n",
       "      <td>0.041667</td>\n",
       "      <td>0</td>\n",
       "    </tr>\n",
       "    <tr>\n",
       "      <th>2</th>\n",
       "      <td>0.111111</td>\n",
       "      <td>0.500000</td>\n",
       "      <td>0.050847</td>\n",
       "      <td>0.041667</td>\n",
       "      <td>0</td>\n",
       "    </tr>\n",
       "    <tr>\n",
       "      <th>3</th>\n",
       "      <td>0.083333</td>\n",
       "      <td>0.458333</td>\n",
       "      <td>0.084746</td>\n",
       "      <td>0.041667</td>\n",
       "      <td>0</td>\n",
       "    </tr>\n",
       "    <tr>\n",
       "      <th>4</th>\n",
       "      <td>0.194444</td>\n",
       "      <td>0.666667</td>\n",
       "      <td>0.067797</td>\n",
       "      <td>0.041667</td>\n",
       "      <td>0</td>\n",
       "    </tr>\n",
       "    <tr>\n",
       "      <th>...</th>\n",
       "      <td>...</td>\n",
       "      <td>...</td>\n",
       "      <td>...</td>\n",
       "      <td>...</td>\n",
       "      <td>...</td>\n",
       "    </tr>\n",
       "    <tr>\n",
       "      <th>145</th>\n",
       "      <td>0.666667</td>\n",
       "      <td>0.416667</td>\n",
       "      <td>0.711864</td>\n",
       "      <td>0.916667</td>\n",
       "      <td>2</td>\n",
       "    </tr>\n",
       "    <tr>\n",
       "      <th>146</th>\n",
       "      <td>0.555556</td>\n",
       "      <td>0.208333</td>\n",
       "      <td>0.677966</td>\n",
       "      <td>0.750000</td>\n",
       "      <td>2</td>\n",
       "    </tr>\n",
       "    <tr>\n",
       "      <th>147</th>\n",
       "      <td>0.611111</td>\n",
       "      <td>0.416667</td>\n",
       "      <td>0.711864</td>\n",
       "      <td>0.791667</td>\n",
       "      <td>2</td>\n",
       "    </tr>\n",
       "    <tr>\n",
       "      <th>148</th>\n",
       "      <td>0.527778</td>\n",
       "      <td>0.583333</td>\n",
       "      <td>0.745763</td>\n",
       "      <td>0.916667</td>\n",
       "      <td>2</td>\n",
       "    </tr>\n",
       "    <tr>\n",
       "      <th>149</th>\n",
       "      <td>0.444444</td>\n",
       "      <td>0.416667</td>\n",
       "      <td>0.694915</td>\n",
       "      <td>0.708333</td>\n",
       "      <td>2</td>\n",
       "    </tr>\n",
       "  </tbody>\n",
       "</table>\n",
       "<p>150 rows × 5 columns</p>\n",
       "</div>"
      ],
      "text/plain": [
       "     sepal.length  sepal.width  petal.length  petal.width  variety\n",
       "0        0.222222     0.625000      0.067797     0.041667        0\n",
       "1        0.166667     0.416667      0.067797     0.041667        0\n",
       "2        0.111111     0.500000      0.050847     0.041667        0\n",
       "3        0.083333     0.458333      0.084746     0.041667        0\n",
       "4        0.194444     0.666667      0.067797     0.041667        0\n",
       "..            ...          ...           ...          ...      ...\n",
       "145      0.666667     0.416667      0.711864     0.916667        2\n",
       "146      0.555556     0.208333      0.677966     0.750000        2\n",
       "147      0.611111     0.416667      0.711864     0.791667        2\n",
       "148      0.527778     0.583333      0.745763     0.916667        2\n",
       "149      0.444444     0.416667      0.694915     0.708333        2\n",
       "\n",
       "[150 rows x 5 columns]"
      ]
     },
     "execution_count": 230,
     "metadata": {},
     "output_type": "execute_result"
    }
   ],
   "source": [
    "df"
   ]
  },
  {
   "cell_type": "markdown",
   "id": "7bb3d16f",
   "metadata": {},
   "source": [
    "## Splitting dataset (80:10:10) "
   ]
  },
  {
   "cell_type": "code",
   "execution_count": 250,
   "id": "44c069be",
   "metadata": {},
   "outputs": [
    {
     "data": {
      "text/html": [
       "<div>\n",
       "<style scoped>\n",
       "    .dataframe tbody tr th:only-of-type {\n",
       "        vertical-align: middle;\n",
       "    }\n",
       "\n",
       "    .dataframe tbody tr th {\n",
       "        vertical-align: top;\n",
       "    }\n",
       "\n",
       "    .dataframe thead th {\n",
       "        text-align: right;\n",
       "    }\n",
       "</style>\n",
       "<table border=\"1\" class=\"dataframe\">\n",
       "  <thead>\n",
       "    <tr style=\"text-align: right;\">\n",
       "      <th></th>\n",
       "      <th>sepal.length</th>\n",
       "      <th>sepal.width</th>\n",
       "      <th>petal.length</th>\n",
       "      <th>petal.width</th>\n",
       "    </tr>\n",
       "  </thead>\n",
       "  <tbody>\n",
       "    <tr>\n",
       "      <th>0</th>\n",
       "      <td>0.222222</td>\n",
       "      <td>0.625000</td>\n",
       "      <td>0.067797</td>\n",
       "      <td>0.041667</td>\n",
       "    </tr>\n",
       "    <tr>\n",
       "      <th>1</th>\n",
       "      <td>0.166667</td>\n",
       "      <td>0.416667</td>\n",
       "      <td>0.067797</td>\n",
       "      <td>0.041667</td>\n",
       "    </tr>\n",
       "    <tr>\n",
       "      <th>2</th>\n",
       "      <td>0.111111</td>\n",
       "      <td>0.500000</td>\n",
       "      <td>0.050847</td>\n",
       "      <td>0.041667</td>\n",
       "    </tr>\n",
       "    <tr>\n",
       "      <th>3</th>\n",
       "      <td>0.083333</td>\n",
       "      <td>0.458333</td>\n",
       "      <td>0.084746</td>\n",
       "      <td>0.041667</td>\n",
       "    </tr>\n",
       "    <tr>\n",
       "      <th>4</th>\n",
       "      <td>0.194444</td>\n",
       "      <td>0.666667</td>\n",
       "      <td>0.067797</td>\n",
       "      <td>0.041667</td>\n",
       "    </tr>\n",
       "    <tr>\n",
       "      <th>...</th>\n",
       "      <td>...</td>\n",
       "      <td>...</td>\n",
       "      <td>...</td>\n",
       "      <td>...</td>\n",
       "    </tr>\n",
       "    <tr>\n",
       "      <th>145</th>\n",
       "      <td>0.666667</td>\n",
       "      <td>0.416667</td>\n",
       "      <td>0.711864</td>\n",
       "      <td>0.916667</td>\n",
       "    </tr>\n",
       "    <tr>\n",
       "      <th>146</th>\n",
       "      <td>0.555556</td>\n",
       "      <td>0.208333</td>\n",
       "      <td>0.677966</td>\n",
       "      <td>0.750000</td>\n",
       "    </tr>\n",
       "    <tr>\n",
       "      <th>147</th>\n",
       "      <td>0.611111</td>\n",
       "      <td>0.416667</td>\n",
       "      <td>0.711864</td>\n",
       "      <td>0.791667</td>\n",
       "    </tr>\n",
       "    <tr>\n",
       "      <th>148</th>\n",
       "      <td>0.527778</td>\n",
       "      <td>0.583333</td>\n",
       "      <td>0.745763</td>\n",
       "      <td>0.916667</td>\n",
       "    </tr>\n",
       "    <tr>\n",
       "      <th>149</th>\n",
       "      <td>0.444444</td>\n",
       "      <td>0.416667</td>\n",
       "      <td>0.694915</td>\n",
       "      <td>0.708333</td>\n",
       "    </tr>\n",
       "  </tbody>\n",
       "</table>\n",
       "<p>150 rows × 4 columns</p>\n",
       "</div>"
      ],
      "text/plain": [
       "     sepal.length  sepal.width  petal.length  petal.width\n",
       "0        0.222222     0.625000      0.067797     0.041667\n",
       "1        0.166667     0.416667      0.067797     0.041667\n",
       "2        0.111111     0.500000      0.050847     0.041667\n",
       "3        0.083333     0.458333      0.084746     0.041667\n",
       "4        0.194444     0.666667      0.067797     0.041667\n",
       "..            ...          ...           ...          ...\n",
       "145      0.666667     0.416667      0.711864     0.916667\n",
       "146      0.555556     0.208333      0.677966     0.750000\n",
       "147      0.611111     0.416667      0.711864     0.791667\n",
       "148      0.527778     0.583333      0.745763     0.916667\n",
       "149      0.444444     0.416667      0.694915     0.708333\n",
       "\n",
       "[150 rows x 4 columns]"
      ]
     },
     "execution_count": 250,
     "metadata": {},
     "output_type": "execute_result"
    }
   ],
   "source": [
    "features"
   ]
  },
  {
   "cell_type": "code",
   "execution_count": 251,
   "id": "40612490",
   "metadata": {},
   "outputs": [],
   "source": [
    "from sklearn.model_selection import train_test_split\n",
    "\n",
    "labels = df['variety']\n",
    "X_train, X_test, y_train, y_test = train_test_split(df[feature_columns],labels, test_size=0.2, random_state=42)\n",
    "X_test, X_val, y_test, y_val = train_test_split(X_test, y_test, test_size=0.5, random_state=42)"
   ]
  },
  {
   "cell_type": "code",
   "execution_count": 252,
   "id": "9b9eda9d",
   "metadata": {},
   "outputs": [
    {
     "data": {
      "text/plain": [
       "(15, 4)"
      ]
     },
     "execution_count": 252,
     "metadata": {},
     "output_type": "execute_result"
    }
   ],
   "source": [
    "X_val.shape"
   ]
  },
  {
   "cell_type": "markdown",
   "id": "709efb08",
   "metadata": {},
   "source": [
    "# KFold Cross Validation"
   ]
  },
  {
   "cell_type": "code",
   "execution_count": 278,
   "id": "665bcaf1",
   "metadata": {},
   "outputs": [
    {
     "name": "stdout",
     "output_type": "stream",
     "text": [
      "[array([0.93333333, 0.93333333, 0.8       , 0.93333333, 1.        ,\n",
      "       1.        ]), array([0.93333333, 0.86666667, 0.8       , 0.86666667, 1.        ,\n",
      "       1.        ]), array([0.93333333, 0.93333333, 0.8       , 0.93333333, 1.        ,\n",
      "       1.        ])]\n"
     ]
    }
   ],
   "source": [
    "k_models = []\n",
    "k_models.append(RandomForestClassifier())\n",
    "k_models.append(LogisticRegression())\n",
    "k_models.append(SVC())\n",
    "\n",
    "kf = KFold(n_splits=6, shuffle=True, random_state=5)\n",
    "cv_scores = []\n",
    "\n",
    "for model in k_models:\n",
    "    cv_scores.append(cross_val_score(model, X_train, y_train, cv=kf))\n",
    "\n",
    "print(cv_scores)"
   ]
  },
  {
   "cell_type": "markdown",
   "id": "eb7fe4c0",
   "metadata": {},
   "source": [
    "# Grid Serch"
   ]
  },
  {
   "cell_type": "code",
   "execution_count": null,
   "id": "3fff5ab8",
   "metadata": {},
   "outputs": [],
   "source": [
    "def print_results(results):\n",
    "    print('BEST PARAMS: {}\\n'.format(results.best_params_))\n",
    "\n",
    "    means = results.cv_results_['mean_test_score']\n",
    "    stds = results.cv_results_['std_test_score']\n",
    "    for mean, std, params in zip(means, stds, results.cv_results_['params']):\n",
    "        print('{} (+/-{}) for {}'.format(round(mean, 3), round(std * 2, 3), params))"
   ]
  },
  {
   "cell_type": "code",
   "execution_count": null,
   "id": "ebab33f2",
   "metadata": {},
   "outputs": [],
   "source": [
    "df.head()"
   ]
  },
  {
   "cell_type": "code",
   "execution_count": 279,
   "id": "843e45b9",
   "metadata": {},
   "outputs": [],
   "source": [
    "features = df[feature_columns]\n",
    "labels = df[['variety']]\n",
    "\n",
    "models = {}"
   ]
  },
  {
   "cell_type": "markdown",
   "id": "e8b41d4e",
   "metadata": {},
   "source": [
    "# Random Forest Classifier"
   ]
  },
  {
   "cell_type": "code",
   "execution_count": 280,
   "id": "3ba2ba6d",
   "metadata": {},
   "outputs": [
    {
     "name": "stdout",
     "output_type": "stream",
     "text": [
      "BEST PARAMS: {'max_depth': 4, 'n_estimators': 250}\n",
      "\n",
      "0.953 (+/-0.053) for {'max_depth': 2, 'n_estimators': 5}\n",
      "0.947 (+/-0.068) for {'max_depth': 2, 'n_estimators': 50}\n",
      "0.947 (+/-0.068) for {'max_depth': 2, 'n_estimators': 250}\n",
      "0.96 (+/-0.065) for {'max_depth': 4, 'n_estimators': 5}\n",
      "0.96 (+/-0.05) for {'max_depth': 4, 'n_estimators': 50}\n",
      "0.967 (+/-0.042) for {'max_depth': 4, 'n_estimators': 250}\n",
      "0.94 (+/-0.098) for {'max_depth': 8, 'n_estimators': 5}\n",
      "0.953 (+/-0.068) for {'max_depth': 8, 'n_estimators': 50}\n",
      "0.96 (+/-0.05) for {'max_depth': 8, 'n_estimators': 250}\n",
      "0.947 (+/-0.08) for {'max_depth': 16, 'n_estimators': 5}\n",
      "0.967 (+/-0.042) for {'max_depth': 16, 'n_estimators': 50}\n",
      "0.967 (+/-0.042) for {'max_depth': 16, 'n_estimators': 250}\n",
      "0.953 (+/-0.068) for {'max_depth': 32, 'n_estimators': 5}\n",
      "0.967 (+/-0.042) for {'max_depth': 32, 'n_estimators': 50}\n",
      "0.96 (+/-0.065) for {'max_depth': 32, 'n_estimators': 250}\n",
      "0.933 (+/-0.094) for {'max_depth': None, 'n_estimators': 5}\n",
      "0.967 (+/-0.042) for {'max_depth': None, 'n_estimators': 50}\n",
      "0.967 (+/-0.042) for {'max_depth': None, 'n_estimators': 250}\n"
     ]
    }
   ],
   "source": [
    "rf = RandomForestClassifier()\n",
    "parameters = {\n",
    "    'n_estimators': [5, 50, 250],\n",
    "    'max_depth': [2, 4, 8, 16, 32, None]\n",
    "}\n",
    "\n",
    "cv = GridSearchCV(rf, parameters, cv=5)\n",
    "cv.fit(features, labels.values.ravel())\n",
    "\n",
    "print_results(cv)\n",
    "models[\"RF\"] = cv.best_estimator_"
   ]
  },
  {
   "cell_type": "markdown",
   "id": "08548d14",
   "metadata": {},
   "source": [
    "### LogisticRegression"
   ]
  },
  {
   "cell_type": "code",
   "execution_count": 281,
   "id": "9b4c2c7d",
   "metadata": {},
   "outputs": [
    {
     "name": "stdout",
     "output_type": "stream",
     "text": [
      "BEST PARAMS: {'C': 10}\n",
      "\n",
      "0.74 (+/-0.088) for {'C': 0.001}\n",
      "0.86 (+/-0.154) for {'C': 0.01}\n",
      "0.947 (+/-0.09) for {'C': 0.1}\n",
      "0.973 (+/-0.05) for {'C': 1}\n",
      "0.98 (+/-0.053) for {'C': 10}\n",
      "0.98 (+/-0.053) for {'C': 100}\n",
      "0.973 (+/-0.065) for {'C': 1000}\n"
     ]
    }
   ],
   "source": [
    "lr = LogisticRegression()\n",
    "parameters = {\n",
    "    'C': [0.001, 0.01, 0.1, 1, 10, 100, 1000]\n",
    "}\n",
    "\n",
    "cv = GridSearchCV(lr, parameters, cv=5)\n",
    "cv.fit(features, labels.values.ravel())\n",
    "\n",
    "print_results(cv)\n",
    "models[\"LR\"] = cv.best_estimator_"
   ]
  },
  {
   "cell_type": "markdown",
   "id": "eaf928e3",
   "metadata": {},
   "source": [
    "### SVC"
   ]
  },
  {
   "cell_type": "code",
   "execution_count": 282,
   "id": "3074a05c",
   "metadata": {},
   "outputs": [
    {
     "name": "stdout",
     "output_type": "stream",
     "text": [
      "BEST PARAMS: {'C': 1, 'kernel': 'linear'}\n",
      "\n",
      "0.973 (+/-0.027) for {'C': 0.1, 'kernel': 'linear'}\n",
      "0.92 (+/-0.053) for {'C': 0.1, 'kernel': 'rbf'}\n",
      "0.98 (+/-0.033) for {'C': 1, 'kernel': 'linear'}\n",
      "0.967 (+/-0.042) for {'C': 1, 'kernel': 'rbf'}\n",
      "0.973 (+/-0.078) for {'C': 10, 'kernel': 'linear'}\n",
      "0.98 (+/-0.033) for {'C': 10, 'kernel': 'rbf'}\n"
     ]
    }
   ],
   "source": [
    "svc = SVC()\n",
    "parameters = {\n",
    "    'kernel': ['linear', 'rbf'],\n",
    "    'C': [0.1, 1, 10]\n",
    "}\n",
    "\n",
    "cv = GridSearchCV(svc, parameters, cv=5)\n",
    "cv.fit(features, labels.values.ravel())\n",
    "\n",
    "print_results(cv)\n",
    "models[\"SVC\"] = cv.best_estimator_"
   ]
  },
  {
   "cell_type": "markdown",
   "id": "c3bbef18",
   "metadata": {},
   "source": [
    "# Model Evaluation for (80:10:10)"
   ]
  },
  {
   "cell_type": "code",
   "execution_count": 283,
   "id": "4abc7e50",
   "metadata": {},
   "outputs": [],
   "source": [
    "def evaluate_model(name, model, features, labels):\n",
    "    start = time()\n",
    "    pred = model.predict(features)\n",
    "    end = time()\n",
    "    accuracy = round(accuracy_score(labels, pred), 3)\n",
    "    precision = round(precision_score(labels, pred, average='micro'), 3)\n",
    "    recall = round(recall_score(labels, pred, average='micro'), 3)\n",
    "    print('{} -- Accuracy: {} / Precision: {} / Recall: {} / Latency: {}ms'.format(name,\n",
    "                                                                                   accuracy,\n",
    "                                                                                   precision,\n",
    "                                                                                   recall,\n",
    "                                                                                   round((end - start)*1000, 1)))"
   ]
  },
  {
   "cell_type": "code",
   "execution_count": 285,
   "id": "75682375",
   "metadata": {
    "scrolled": true
   },
   "outputs": [
    {
     "name": "stdout",
     "output_type": "stream",
     "text": [
      "RF -- Accuracy: 0.993 / Precision: 0.993 / Recall: 0.993 / Latency: 57.7ms\n",
      "LR -- Accuracy: 0.98 / Precision: 0.98 / Recall: 0.98 / Latency: 1.5ms\n",
      "SVC -- Accuracy: 0.993 / Precision: 0.993 / Recall: 0.993 / Latency: 2.0ms\n"
     ]
    }
   ],
   "source": [
    "for name, model in models.items():\n",
    "    evaluate_model(name, model, features, labels)"
   ]
  },
  {
   "cell_type": "markdown",
   "id": "0ba7c5b6",
   "metadata": {},
   "source": [
    "### At results on Validation set and test set for (80:10:10),the best model is Logestic Regression because the accuracy is 0.98 with Latency 1.5ms. \n"
   ]
  },
  {
   "cell_type": "markdown",
   "id": "6d0e9b05",
   "metadata": {},
   "source": [
    "# Splitting dataset (60:20:20)"
   ]
  },
  {
   "cell_type": "code",
   "execution_count": 255,
   "id": "77abb2a2",
   "metadata": {},
   "outputs": [],
   "source": [
    "from sklearn.model_selection import train_test_split\n",
    "\n",
    "labels = df['variety']\n",
    "\n",
    "X_train, X_test, y_train, y_test = train_test_split(df[feature_columns],labels, test_size=0.4, random_state=42)\n",
    "X_test, X_val, y_test, y_val = train_test_split(X_test, y_test, test_size=0.5, random_state=42)"
   ]
  },
  {
   "cell_type": "code",
   "execution_count": null,
   "id": "b884833d",
   "metadata": {},
   "outputs": [],
   "source": [
    "y_val.shape"
   ]
  },
  {
   "cell_type": "code",
   "execution_count": null,
   "id": "97459fa6",
   "metadata": {},
   "outputs": [],
   "source": [
    "def print_results(results):\n",
    "    print('BEST PARAMS: {}\\n'.format(results.best_params_))\n",
    "\n",
    "    means = results.cv_results_['mean_test_score']\n",
    "    stds = results.cv_results_['std_test_score']\n",
    "    for mean, std, params in zip(means, stds, results.cv_results_['params']):\n",
    "        print('{} (+/-{}) for {}'.format(round(mean, 3), round(std * 2, 3), params))"
   ]
  },
  {
   "cell_type": "code",
   "execution_count": null,
   "id": "b61031a1",
   "metadata": {},
   "outputs": [],
   "source": []
  },
  {
   "cell_type": "code",
   "execution_count": 256,
   "id": "b0ac1a48",
   "metadata": {},
   "outputs": [],
   "source": [
    "features = df[feature_columns]\n",
    "labels = df[['variety']]\n",
    "\n",
    "models = {}"
   ]
  },
  {
   "cell_type": "markdown",
   "id": "e8c5c6ef",
   "metadata": {},
   "source": [
    "# Random Forest Classifier"
   ]
  },
  {
   "cell_type": "code",
   "execution_count": 257,
   "id": "98337076",
   "metadata": {},
   "outputs": [
    {
     "name": "stdout",
     "output_type": "stream",
     "text": [
      "BEST PARAMS: {'max_depth': 4, 'n_estimators': 5}\n",
      "\n",
      "0.96 (+/-0.065) for {'max_depth': 2, 'n_estimators': 5}\n",
      "0.953 (+/-0.053) for {'max_depth': 2, 'n_estimators': 50}\n",
      "0.953 (+/-0.068) for {'max_depth': 2, 'n_estimators': 250}\n",
      "0.967 (+/-0.042) for {'max_depth': 4, 'n_estimators': 5}\n",
      "0.967 (+/-0.042) for {'max_depth': 4, 'n_estimators': 50}\n",
      "0.96 (+/-0.05) for {'max_depth': 4, 'n_estimators': 250}\n",
      "0.947 (+/-0.08) for {'max_depth': 8, 'n_estimators': 5}\n",
      "0.967 (+/-0.042) for {'max_depth': 8, 'n_estimators': 50}\n",
      "0.967 (+/-0.042) for {'max_depth': 8, 'n_estimators': 250}\n",
      "0.953 (+/-0.068) for {'max_depth': 16, 'n_estimators': 5}\n",
      "0.967 (+/-0.042) for {'max_depth': 16, 'n_estimators': 50}\n",
      "0.96 (+/-0.05) for {'max_depth': 16, 'n_estimators': 250}\n",
      "0.953 (+/-0.068) for {'max_depth': 32, 'n_estimators': 5}\n",
      "0.96 (+/-0.05) for {'max_depth': 32, 'n_estimators': 50}\n",
      "0.96 (+/-0.05) for {'max_depth': 32, 'n_estimators': 250}\n",
      "0.96 (+/-0.05) for {'max_depth': None, 'n_estimators': 5}\n",
      "0.96 (+/-0.05) for {'max_depth': None, 'n_estimators': 50}\n",
      "0.96 (+/-0.05) for {'max_depth': None, 'n_estimators': 250}\n"
     ]
    }
   ],
   "source": [
    "rf = RandomForestClassifier()\n",
    "parameters = {\n",
    "    'n_estimators': [5, 50, 250],\n",
    "    'max_depth': [2, 4, 8, 16, 32, None]\n",
    "}\n",
    "\n",
    "cv = GridSearchCV(rf, parameters, cv=5)\n",
    "cv.fit(features, labels.values.ravel())\n",
    "\n",
    "print_results(cv)\n",
    "models[\"RF\"] = cv.best_estimator_"
   ]
  },
  {
   "cell_type": "markdown",
   "id": "c3218333",
   "metadata": {},
   "source": [
    "# LogisticRegression"
   ]
  },
  {
   "cell_type": "code",
   "execution_count": 258,
   "id": "9ae0830c",
   "metadata": {},
   "outputs": [
    {
     "name": "stdout",
     "output_type": "stream",
     "text": [
      "BEST PARAMS: {'C': 100}\n",
      "\n",
      "0.753 (+/-0.1) for {'C': 0.001}\n",
      "0.78 (+/-0.108) for {'C': 0.01}\n",
      "0.867 (+/-0.146) for {'C': 0.1}\n",
      "0.927 (+/-0.115) for {'C': 1}\n",
      "0.953 (+/-0.068) for {'C': 10}\n",
      "0.973 (+/-0.065) for {'C': 100}\n",
      "0.973 (+/-0.065) for {'C': 1000}\n"
     ]
    }
   ],
   "source": [
    "lr = LogisticRegression()\n",
    "parameters = {\n",
    "    'C': [0.001, 0.01, 0.1, 1, 10, 100, 1000]\n",
    "}\n",
    "\n",
    "cv = GridSearchCV(lr, parameters, cv=5)\n",
    "cv.fit(features, labels.values.ravel())\n",
    "\n",
    "print_results(cv)\n",
    "models[\"LR\"] = cv.best_estimator_"
   ]
  },
  {
   "cell_type": "markdown",
   "id": "0612190b",
   "metadata": {},
   "source": [
    "# SVC"
   ]
  },
  {
   "cell_type": "markdown",
   "id": "9ae6fead",
   "metadata": {},
   "source": [
    "svc = SVC()\n",
    "parameters = {\n",
    "    'kernel': ['linear', 'rbf'],\n",
    "    'C': [0.1, 1, 10]\n",
    "}\n",
    "\n",
    "cv = GridSearchCV(svc, parameters, cv=5)\n",
    "cv.fit(features, labels.values.ravel())\n",
    "\n",
    "print_results(cv)\n",
    "models[\"SVC\"] = cv.best_estimator_"
   ]
  },
  {
   "cell_type": "markdown",
   "id": "2615190f",
   "metadata": {},
   "source": [
    "# Model Evaluation for (60:20:20)"
   ]
  },
  {
   "cell_type": "code",
   "execution_count": 260,
   "id": "32b75edf",
   "metadata": {},
   "outputs": [],
   "source": []
  },
  {
   "cell_type": "code",
   "execution_count": 261,
   "id": "aa7ebb42",
   "metadata": {},
   "outputs": [
    {
     "name": "stdout",
     "output_type": "stream",
     "text": [
      "RF -- Accuracy: 0.98 / Precision: 0.98 / Recall: 0.98 / Latency: 7.1ms\n",
      "LR -- Accuracy: 0.98 / Precision: 0.98 / Recall: 0.98 / Latency: 1.8ms\n",
      "SVC -- Accuracy: 0.98 / Precision: 0.98 / Recall: 0.98 / Latency: 2.6ms\n"
     ]
    }
   ],
   "source": [
    "for name, model in models.items():\n",
    "    evaluate_model(name, model, features, labels)"
   ]
  },
  {
   "cell_type": "markdown",
   "id": "c584bfe5",
   "metadata": {},
   "source": [
    "### At results on Validation set and test set for (60:20:20),the best model is Logestic Regression because the accuracy is 0.98 with Latency 1.8ms."
   ]
  },
  {
   "cell_type": "markdown",
   "id": "af252767",
   "metadata": {},
   "source": [
    "### Comparing two split data ratio for (80:10:10) and (60:20:20), Logestic Regression is the best model with accuracy 0.98 while Latency is 1.5ms and 1.8ms."
   ]
  },
  {
   "cell_type": "code",
   "execution_count": 262,
   "id": "10a0715b",
   "metadata": {},
   "outputs": [
    {
     "data": {
      "text/plain": [
       "'/Users/sandaraung/Documents/AI'"
      ]
     },
     "execution_count": 262,
     "metadata": {},
     "output_type": "execute_result"
    }
   ],
   "source": [
    "pwd"
   ]
  },
  {
   "cell_type": "code",
   "execution_count": null,
   "id": "d9a3ec28",
   "metadata": {},
   "outputs": [],
   "source": []
  }
 ],
 "metadata": {
  "kernelspec": {
   "display_name": "Python 3 (ipykernel)",
   "language": "python",
   "name": "python3"
  },
  "language_info": {
   "codemirror_mode": {
    "name": "ipython",
    "version": 3
   },
   "file_extension": ".py",
   "mimetype": "text/x-python",
   "name": "python",
   "nbconvert_exporter": "python",
   "pygments_lexer": "ipython3",
   "version": "3.9.7"
  }
 },
 "nbformat": 4,
 "nbformat_minor": 5
}
